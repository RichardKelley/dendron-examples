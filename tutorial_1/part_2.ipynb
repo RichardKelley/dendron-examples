{
 "cells": [
  {
   "cell_type": "code",
   "execution_count": null,
   "id": "0543044d-cb46-48d4-a8b2-eb787ed2b26a",
   "metadata": {},
   "outputs": [],
   "source": [
    "import dendron\n",
    "from dendron.actions.causal_lm_action import CausalLMActionConfig, CausalLMAction\n",
    "from dendron.controls import Sequence, Fallback\n",
    "from dendron import NodeStatus\n",
    "\n",
    "import torch\n",
    "from piper import PiperVoice\n",
    "import numpy as np\n",
    "import sounddevice as sd"
   ]
  },
  {
   "cell_type": "code",
   "execution_count": null,
   "id": "254f497a-3843-4a5b-92fd-2a075226df93",
   "metadata": {},
   "outputs": [],
   "source": [
    "class GetTextInput(dendron.ActionNode):\n",
    "    \"\"\"\n",
    "    PRE: None\n",
    "    POST: \n",
    "        blackboard[latest_human_input_key] = input\n",
    "        blackboard[\"in\"] = chat\n",
    "    \"\"\"\n",
    "    def __init__(self, latest_human_input_key = \"latest_human_input\"):\n",
    "        super().__init__(\"get_text_input\")\n",
    "        self.latest_human_input_key = latest_human_input_key\n",
    "\n",
    "    def tick(self):\n",
    "        self.blackboard[self.latest_human_input_key] = input(\"Human: \")\n",
    "\n",
    "        chat = self.blackboard[\"chat_history\"]\n",
    "        chat.append({\"role\": \"GPT4 Correct User\", \"content\" : self.blackboard[self.latest_human_input_key]})\n",
    "        self.blackboard[\"in\"] = chat\n",
    "\n",
    "        return NodeStatus.SUCCESS"
   ]
  },
  {
   "cell_type": "code",
   "execution_count": null,
   "id": "bf779d3f-1237-403d-b841-26d1940dcbf8",
   "metadata": {},
   "outputs": [],
   "source": [
    "class MoreToSay(dendron.ConditionNode):\n",
    "    def __init__(self, speech_input_key=\"speech_in\"):\n",
    "        super().__init__(\"more_to_say\")\n",
    "        self.speech_input_key = speech_input_key\n",
    "\n",
    "    def tick(self):\n",
    "        if self.blackboard[self.speech_input_key] != []:\n",
    "            return dendron.NodeStatus.SUCCESS\n",
    "        else:\n",
    "            return dendron.NodeStatus.FAILURE"
   ]
  },
  {
   "cell_type": "code",
   "execution_count": null,
   "id": "eccaedc0-1534-47ad-bf06-24814bef527b",
   "metadata": {},
   "outputs": [],
   "source": [
    "class TTSAction(dendron.ActionNode):\n",
    "    def __init__(self, name):\n",
    "        super().__init__(name)\n",
    "        self.voice = PiperVoice.load(\"en_US-danny-low.onnx\", config_path=\"en_US-danny-low.onnx.json\", use_cuda=False)\n",
    "        \n",
    "    def tick(self):\n",
    "        try:\n",
    "            input_text = self.blackboard[\"speech_in\"].pop() \n",
    "            self.blackboard[\"speech_out\"] = self.voice.synthesize_stream_raw(\"\\t\" + input_text, sentence_silence=0.1)\n",
    "        except Exception as e:\n",
    "            print(\"Speech generation exception: \", e)\n",
    "            return dendron.NodeStatus.FAILURE\n",
    "\n",
    "        return dendron.NodeStatus.SUCCESS\n",
    "\n",
    "def play_speech(self):\n",
    "    audio_stream = self.blackboard[\"speech_out\"]\n",
    "    for sent in audio_stream:\n",
    "        audio = np.frombuffer(sent, dtype=np.int16)\n",
    "        a = (audio - 32768) / 65536\n",
    "        sd.play(a, 16000)\n",
    "        sd.wait()"
   ]
  },
  {
   "cell_type": "code",
   "execution_count": null,
   "id": "f0c7702a-8e8d-4344-9379-58862af33bd6",
   "metadata": {},
   "outputs": [],
   "source": [
    "speech_node = TTSAction(\"speech_node\")\n",
    "speech_node.add_post_tick(play_speech)\n",
    "\n",
    "speech_seq = Sequence(\"speech_seq\", [\n",
    "    MoreToSay(),\n",
    "    speech_node\n",
    "])"
   ]
  },
  {
   "cell_type": "code",
   "execution_count": null,
   "id": "718b1582-9c49-4dfb-b55f-6e7fc9858406",
   "metadata": {},
   "outputs": [],
   "source": [
    "class TimeToThink(dendron.ConditionNode):\n",
    "    \"\"\"\n",
    "    PRE:\n",
    "        blackboard[human_input_key] should be set\n",
    "    POST:\n",
    "    \"\"\"\n",
    "    def __init__(self, human_input_key = \"latest_human_input\"):\n",
    "        super().__init__(\"time_to_think\")\n",
    "        self.human_input_key = human_input_key\n",
    "        self.last_human_input = \"\"\n",
    "\n",
    "    def tick(self):\n",
    "        human_input = self.blackboard[self.human_input_key]\n",
    "        if self.last_human_input == human_input:\n",
    "            status = NodeStatus.FAILURE\n",
    "        else:\n",
    "            status = NodeStatus.SUCCESS\n",
    "\n",
    "        self.last_human_input = human_input\n",
    "        return status"
   ]
  },
  {
   "cell_type": "code",
   "execution_count": null,
   "id": "d5808f3b-8e8d-4c6d-8f8d-3e362a4d19fd",
   "metadata": {},
   "outputs": [],
   "source": [
    "chat_behavior_cfg = CausalLMActionConfig(load_in_4bit=True,\n",
    "                                         max_new_tokens=128,\n",
    "                                         do_sample=True,\n",
    "                                         top_p=0.95,\n",
    "                                         use_flash_attn_2=True,\n",
    "                                         model_name='openchat/openchat-3.5-0106')\n",
    "\n",
    "chat_node = CausalLMAction('chat_node', chat_behavior_cfg)\n",
    "\n",
    "def chat_to_str(self, chat):\n",
    "    return self.tokenizer.apply_chat_template(chat, tokenize=False, add_generation_prompt=True)\n",
    "\n",
    "def str_to_chat(self, str):\n",
    "    key = \"GPT4 Correct Assistant:\"\n",
    "    idx = str.rfind(key)\n",
    "    response = str[idx+len(key):]\n",
    "    chat = self.blackboard[self.input_key]\n",
    "    chat.append({\"role\" : \"GPT4 Correct Assistant\", \"content\" : response})\n",
    "    return chat\n",
    "\n",
    "def set_next_speech(self):\n",
    "    text_output = self.blackboard[\"out\"][-1][\"content\"]\n",
    "    self.blackboard[\"speech_in\"].append(text_output)\n",
    "\n",
    "chat_node.set_input_processor(chat_to_str)\n",
    "chat_node.set_output_processor(str_to_chat)\n",
    "chat_node.add_post_tick(set_next_speech)"
   ]
  },
  {
   "cell_type": "code",
   "execution_count": null,
   "id": "b8e9c987-c29f-475d-a808-730378a83d26",
   "metadata": {},
   "outputs": [],
   "source": [
    "thought_seq = Sequence(\"thought_seq\", [\n",
    "    TimeToThink(),\n",
    "    chat_node\n",
    "])"
   ]
  },
  {
   "cell_type": "code",
   "execution_count": null,
   "id": "b6c7c543-9524-43d5-b34d-7efdbfe45de8",
   "metadata": {},
   "outputs": [],
   "source": [
    "root_node = Fallback(\"conversation_turn\", [\n",
    "    speech_seq,\n",
    "    thought_seq,                \n",
    "    GetTextInput()\n",
    "])\n",
    "tree = dendron.BehaviorTree(\"talker_tree\", root_node)"
   ]
  },
  {
   "cell_type": "code",
   "execution_count": null,
   "id": "bc9bac1a-783c-4899-82b6-56b66b4f7ef1",
   "metadata": {},
   "outputs": [],
   "source": [
    "tree.blackboard[\"chat_history\"] = []\n",
    "tree.blackboard[\"speech_in\"] = []\n",
    "tree.blackboard[\"latest_human_input\"] = \"\"\n",
    "\n",
    "while True:\n",
    "    tree.tick_once()"
   ]
  }
 ],
 "metadata": {
  "kernelspec": {
   "display_name": "Python 3 (ipykernel)",
   "language": "python",
   "name": "python3"
  },
  "language_info": {
   "codemirror_mode": {
    "name": "ipython",
    "version": 3
   },
   "file_extension": ".py",
   "mimetype": "text/x-python",
   "name": "python",
   "nbconvert_exporter": "python",
   "pygments_lexer": "ipython3",
   "version": "3.10.0"
  }
 },
 "nbformat": 4,
 "nbformat_minor": 5
}
