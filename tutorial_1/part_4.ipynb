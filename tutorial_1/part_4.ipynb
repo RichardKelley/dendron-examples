{
 "cells": [
  {
   "cell_type": "code",
   "execution_count": null,
   "id": "a344e263-7efa-4a63-b7d1-75da2db1f91e",
   "metadata": {},
   "outputs": [],
   "source": [
    "from dendron_tutorial_1 import *\n",
    "\n",
    "from whisper_mic import WhisperMic"
   ]
  },
  {
   "cell_type": "code",
   "execution_count": null,
   "id": "3a65dec0-1562-41bf-8724-e3821df24afc",
   "metadata": {},
   "outputs": [],
   "source": [
    "class GetVoiceInput(dendron.ActionNode):\n",
    "    def __init__(self, latest_human_input_key = \"latest_human_input\"):\n",
    "        super().__init__(\"get_voice_input\")\n",
    "        self.latest_human_input_key = latest_human_input_key\n",
    "        self.mic = WhisperMic()\n",
    "\n",
    "    def tick(self):\n",
    "        t = np.arange(8000) / 16000\n",
    "        t = t.reshape(-1, 1)\n",
    "        beep = 0.2 * np.sin(2 * np.pi * 440 * t)\n",
    "        sd.play(beep, 16000)\n",
    "\n",
    "        self.blackboard[self.latest_human_input_key] = self.mic.listen()\n",
    "\n",
    "        chat = self.blackboard[\"chat_history\"]\n",
    "        chat.append({\"role\": \"GPT4 Correct User\", \"content\" : self.blackboard[self.latest_human_input_key]})\n",
    "        self.blackboard[\"in\"] = chat\n",
    "\n",
    "        return NodeStatus.SUCCESS"
   ]
  },
  {
   "cell_type": "code",
   "execution_count": null,
   "id": "e8a966c3-6a0c-48c0-b595-e6976520ec49",
   "metadata": {},
   "outputs": [],
   "source": [
    "speech_node = TTSAction(\"speech_node\")\n",
    "speech_node.add_post_tick(play_speech)\n",
    "\n",
    "chat_behavior_cfg = CausalLMActionConfig(load_in_4bit=True,\n",
    "                                         max_new_tokens=128,\n",
    "                                         do_sample=True,\n",
    "                                         top_p=0.95,\n",
    "                                         use_flash_attn_2=True,\n",
    "                                         model_name='openchat/openchat_3.5')\n",
    "\n",
    "chat_node = CausalLMAction('chat_node', chat_behavior_cfg)\n",
    "\n",
    "chat_node.set_input_processor(chat_to_str)\n",
    "chat_node.set_output_processor(str_to_chat)\n",
    "chat_node.add_post_tick(set_next_speech)\n",
    "\n",
    "farewell_classifier_cfg = CompletionConditionConfig(\n",
    "    input_key = \"farewell_test_in\",\n",
    "    load_in_4bit=True,\n",
    "    model_name='mlabonne/Monarch-7B',\n",
    "    use_flash_attn_2=True\n",
    ")\n",
    "\n",
    "farewell_classification_node = CompletionCondition(\"farewell_classifier\", farewell_classifier_cfg)\n",
    "farewell_classification_node.add_pre_tick(farewell_pretick)\n",
    "farewell_classification_node.add_post_tick(farewell_posttick)"
   ]
  },
  {
   "cell_type": "code",
   "execution_count": null,
   "id": "946da872-d84d-426f-ab00-53c9fef65fee",
   "metadata": {},
   "outputs": [],
   "source": [
    "speech_seq = Sequence(\"speech_seq\", [\n",
    "    MoreToSay(),\n",
    "    speech_node\n",
    "])\n",
    "\n",
    "thought_seq = Sequence(\"thought_seq\", [\n",
    "    TimeToThink(),\n",
    "    chat_node,\n",
    "    SentenceSplitter()\n",
    "])\n",
    "\n",
    "goodbye_test = Sequence(\"goodbye_test\", [\n",
    "    farewell_classification_node,\n",
    "    SayGoodbye(), \n",
    "    speech_node\n",
    "])\n",
    "\n",
    "conversation_turn = Fallback(\"conversation_turn\", [\n",
    "    speech_seq,\n",
    "    thought_seq,\n",
    "    GetVoiceInput()\n",
    "])\n",
    "\n",
    "root_node = Fallback(\"converse\", [\n",
    "    goodbye_test,\n",
    "    conversation_turn,\n",
    "])\n",
    "\n",
    "tree = dendron.BehaviorTree(\"chat_tree\", root_node)"
   ]
  },
  {
   "cell_type": "code",
   "execution_count": null,
   "id": "d7e2675f-a706-4986-a3be-93b04c882689",
   "metadata": {},
   "outputs": [],
   "source": [
    "tree.blackboard[\"chat_history\"] = []\n",
    "tree.blackboard[\"speech_in\"] = []\n",
    "\n",
    "tree.blackboard.register_entry(dendron.blackboard.BlackboardEntryMetadata(\n",
    "    key = \"latest_human_input\",\n",
    "    description = \"The last thing the human said.\",\n",
    "    type_constructor = str\n",
    "))\n",
    "tree.blackboard[\"latest_human_input\"] = None\n",
    "\n",
    "tree.blackboard[\"completions_in\"] = [\"yes\", \"no\"]\n",
    "tree.blackboard[\"success_fn\"] = farewell_success_fn\n",
    "tree.blackboard[\"all_done\"] = False"
   ]
  },
  {
   "cell_type": "code",
   "execution_count": null,
   "id": "b8d8ec2c-7649-454c-8805-a1927021b639",
   "metadata": {},
   "outputs": [],
   "source": [
    "while not tree.blackboard[\"all_done\"]:\n",
    "    tree.tick_once()"
   ]
  },
  {
   "cell_type": "code",
   "execution_count": null,
   "id": "7a194ce7-5908-4b96-b7de-7a69291a378a",
   "metadata": {},
   "outputs": [],
   "source": []
  }
 ],
 "metadata": {
  "kernelspec": {
   "display_name": "Python 3 (ipykernel)",
   "language": "python",
   "name": "python3"
  },
  "language_info": {
   "codemirror_mode": {
    "name": "ipython",
    "version": 3
   },
   "file_extension": ".py",
   "mimetype": "text/x-python",
   "name": "python",
   "nbconvert_exporter": "python",
   "pygments_lexer": "ipython3",
   "version": "3.11.0"
  }
 },
 "nbformat": 4,
 "nbformat_minor": 5
}
