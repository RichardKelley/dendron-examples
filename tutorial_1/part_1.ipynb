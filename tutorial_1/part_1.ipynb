{
 "cells": [
  {
   "cell_type": "code",
   "execution_count": null,
   "id": "20110493-fd64-480a-bab7-858c6c9639be",
   "metadata": {},
   "outputs": [],
   "source": [
    "import dendron\n",
    "from dendron.actions.causal_lm_action import CausalLMActionConfig, CausalLMAction"
   ]
  },
  {
   "cell_type": "code",
   "execution_count": null,
   "id": "547b0c59-b64f-490a-882d-4773dcc606d3",
   "metadata": {},
   "outputs": [],
   "source": [
    "import torch\n",
    "from transformers import BarkModel, BarkProcessor\n",
    "from optimum.bettertransformer import BetterTransformer\n",
    "import sounddevice as sd"
   ]
  },
  {
   "cell_type": "code",
   "execution_count": null,
   "id": "99d0298b-5950-4d37-8962-26942a1e9c33",
   "metadata": {},
   "outputs": [],
   "source": [
    "class TTSAction(dendron.ActionNode):\n",
    "    def __init__(self, name):\n",
    "        super().__init__(name)\n",
    "        self.processor = BarkProcessor.from_pretrained(\"suno/bark-small\")\n",
    "        self.model = BarkModel.from_pretrained(\"suno/bark-small\").to(\"cuda\")\n",
    "        self.model = BetterTransformer.transform(self.model, keep_original_model=False)\n",
    "        self.model.enable_cpu_offload()\n",
    "\n",
    "    def tick(self):\n",
    "        try:\n",
    "            input_text = self.blackboard[\"speech_in\"]\n",
    "            inputs = self.processor(text=input_text, voice_preset=\"v2/en_speaker_9\", return_tensors=\"pt\").to(\"cuda\")\n",
    "            self.blackboard[\"speech_out\"] = self.model.generate(**inputs).cpu().numpy()\n",
    "        except Exception as e:\n",
    "            print(\"Speech generation exception: \", e)\n",
    "            return dendron.NodeStatus.FAILURE\n",
    "\n",
    "        return dendron.NodeStatus.SUCCESS"
   ]
  },
  {
   "cell_type": "code",
   "execution_count": null,
   "id": "bf3ff74c-b6bd-4e7a-8c6e-5727a1fa7921",
   "metadata": {},
   "outputs": [],
   "source": [
    "def play_speech(self):\n",
    "    sd.play(self.blackboard[\"speech_out\"][0], self.model.generation_config.sample_rate)\n",
    "    sd.wait()"
   ]
  },
  {
   "cell_type": "code",
   "execution_count": null,
   "id": "7c57b229-d431-44d9-af07-a4e758b9d761",
   "metadata": {},
   "outputs": [],
   "source": [
    "speech_node = TTSAction(\"speech_node\")\n",
    "speech_node.add_post_tick(play_speech)"
   ]
  },
  {
   "cell_type": "code",
   "execution_count": null,
   "id": "214d4170-644a-4ba4-bf6a-f530baacec78",
   "metadata": {},
   "outputs": [],
   "source": [
    "chat_behavior_cfg = CausalLMActionConfig(load_in_4bit=True,\n",
    "                                         max_new_tokens=128,\n",
    "                                         do_sample=True,\n",
    "                                         top_p=0.95,\n",
    "                                         use_flash_attn_2=True,\n",
    "                                         model_name='openchat/openchat_3.5')\n",
    "\n",
    "chat_node = CausalLMAction('chat_node', chat_behavior_cfg)\n",
    "\n",
    "def chat_to_str(self, chat):\n",
    "    return self.tokenizer.apply_chat_template(chat, tokenize=False, add_generation_prompt=True)\n",
    "\n",
    "def str_to_chat(self, str):\n",
    "    key = \"GPT4 Correct Assistant:\"\n",
    "    idx = str.rfind(key)\n",
    "    response = str[idx+len(key):]\n",
    "    chat = self.blackboard[self.input_key]\n",
    "    chat.append({\"role\" : \"GPT4 Correct Assistant\", \"content\" : response})\n",
    "    return chat\n",
    "\n",
    "chat_node.set_input_processor(chat_to_str)\n",
    "chat_node.set_output_processor(str_to_chat)"
   ]
  },
  {
   "cell_type": "code",
   "execution_count": null,
   "id": "0e2fbd5e-0151-4bea-a4c0-6a5f62c86ee1",
   "metadata": {},
   "outputs": [],
   "source": [
    "def set_next_speech(self):\n",
    "    text_output = self.blackboard[\"out\"][-1][\"content\"]\n",
    "    self.blackboard[\"speech_in\"] = \" \" + text_output\n",
    "\n",
    "chat_node.add_post_tick(set_next_speech)"
   ]
  },
  {
   "cell_type": "code",
   "execution_count": null,
   "id": "3a85f9a3-99c0-46e4-8f14-e1feb044bc94",
   "metadata": {},
   "outputs": [],
   "source": [
    "root_node = dendron.controls.Sequence(\"think_then_talk\", [\n",
    "    chat_node,\n",
    "    speech_node\n",
    "])\n",
    "\n",
    "tree = dendron.BehaviorTree(\"talker_tree\", root_node)"
   ]
  },
  {
   "cell_type": "code",
   "execution_count": null,
   "id": "91a15716-a7d2-463a-89e5-43337eda1b7c",
   "metadata": {},
   "outputs": [],
   "source": [
    "chat = []\n",
    "\n",
    "while True:\n",
    "    input_str = input(\"Input: \")\n",
    "    chat.append({\"role\": \"GPT4 Correct User\", \"content\" : input_str})\n",
    "    tree.blackboard[\"in\"] = chat\n",
    "    tree.tick_once()\n",
    "    print(\"Output: \", tree.blackboard[\"out\"][-1][\"content\"])\n",
    "    if \"Goodbye\" in tree.blackboard[\"out\"][-1][\"content\"]:\n",
    "        break"
   ]
  },
  {
   "cell_type": "code",
   "execution_count": null,
   "id": "98c0b835-8a88-46b2-a78d-391f7cf7bfc8",
   "metadata": {},
   "outputs": [],
   "source": []
  }
 ],
 "metadata": {
  "kernelspec": {
   "display_name": "Python 3 (ipykernel)",
   "language": "python",
   "name": "python3"
  },
  "language_info": {
   "codemirror_mode": {
    "name": "ipython",
    "version": 3
   },
   "file_extension": ".py",
   "mimetype": "text/x-python",
   "name": "python",
   "nbconvert_exporter": "python",
   "pygments_lexer": "ipython3",
   "version": "3.11.0"
  }
 },
 "nbformat": 4,
 "nbformat_minor": 5
}
