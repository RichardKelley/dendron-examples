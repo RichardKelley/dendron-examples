{
 "cells": [
  {
   "cell_type": "code",
   "execution_count": null,
   "id": "0090be0a-94da-4e95-9d18-440ca6660d7a",
   "metadata": {},
   "outputs": [],
   "source": [
    "import dendron\n",
    "from dendron.actions.causal_lm_action import CausalLMActionConfig, CausalLMAction"
   ]
  },
  {
   "cell_type": "code",
   "execution_count": null,
   "id": "45a07b8b-5ebd-4d13-a973-c995df390627",
   "metadata": {},
   "outputs": [],
   "source": [
    "chat_behavior_cfg = CausalLMActionConfig(load_in_4bit=True,\n",
    "                                         max_new_tokens=128,\n",
    "                                         do_sample=True,\n",
    "                                         top_p=0.95,\n",
    "                                         use_flash_attn_2=True,\n",
    "                                         model_name='openchat/openchat-3.5-0106')"
   ]
  },
  {
   "cell_type": "code",
   "execution_count": null,
   "id": "7720f698-26fe-46bc-97e4-5cfad32e63cb",
   "metadata": {},
   "outputs": [],
   "source": [
    "chat_node = CausalLMAction('chat_node', chat_behavior_cfg)\n",
    "tree = dendron.BehaviorTree(\"chat_tree\", chat_node)"
   ]
  },
  {
   "cell_type": "code",
   "execution_count": null,
   "id": "e9fca1cf-9215-45f0-b16f-6646645e418b",
   "metadata": {},
   "outputs": [],
   "source": [
    "chat = [\n",
    "    {\"role\": \"GPT4 Correct User\", \"content\": \"Hello, how are you?\"},\n",
    "    {\"role\" : \"GPT4 Correct Assistant\", \"content\" : \"I am well. How are you?\"}\n",
    "]"
   ]
  },
  {
   "cell_type": "code",
   "execution_count": null,
   "id": "44bbf84b-be4b-44c0-96f9-90d2f92be28a",
   "metadata": {},
   "outputs": [],
   "source": [
    "def chat_to_str(self, chat):\n",
    "    return self.tokenizer.apply_chat_template(chat, tokenize=False, add_generation_prompt=True)\n",
    "\n",
    "tree.root.set_input_processor(chat_to_str)"
   ]
  },
  {
   "cell_type": "code",
   "execution_count": null,
   "id": "7e8aec08-9a75-48bf-87c0-f41960352608",
   "metadata": {},
   "outputs": [],
   "source": [
    "def str_to_chat(self, str):\n",
    "    key = \"GPT4 Correct Assistant:\"\n",
    "    idx = str.rfind(key)\n",
    "    response = str[idx+len(key):]\n",
    "    chat = self.blackboard[self.input_key]\n",
    "    chat.append({\"role\" : \"GPT4 Correct Assistant\", \"content\" : response})\n",
    "    return chat\n",
    "\n",
    "tree.root.set_output_processor(str_to_chat)"
   ]
  },
  {
   "cell_type": "code",
   "execution_count": null,
   "id": "a338784d-19c8-44e4-b5d5-dccfab9ec497",
   "metadata": {},
   "outputs": [],
   "source": [
    "while True:\n",
    "    input_str = input(\"Input: \")\n",
    "    chat.append({\"role\": \"GPT4 Correct User\", \"content\" : input_str})\n",
    "    tree.blackboard[\"in\"] = chat\n",
    "\n",
    "    tree.tick_once()\n",
    "\n",
    "    print(\"Output: \", tree.blackboard[\"out\"][-1][\"content\"])\n",
    "    if \"Goodbye\" in tree.blackboard[\"out\"][-1][\"content\"]:\n",
    "        break"
   ]
  },
  {
   "cell_type": "code",
   "execution_count": null,
   "id": "d3c778ae-a538-41b8-8c42-e04cce7a6642",
   "metadata": {},
   "outputs": [],
   "source": [
    "print(tree.blackboard[\"out\"])"
   ]
  },
  {
   "cell_type": "code",
   "execution_count": null,
   "id": "6d3a6593-a1dc-44b2-90db-1bed74d339fa",
   "metadata": {},
   "outputs": [],
   "source": [
    "print(tree.blackboard)"
   ]
  },
  {
   "cell_type": "code",
   "execution_count": null,
   "id": "0cb4419e-6330-4d84-99ff-9516e00df0d2",
   "metadata": {},
   "outputs": [],
   "source": []
  }
 ],
 "metadata": {
  "kernelspec": {
   "display_name": "Python 3 (ipykernel)",
   "language": "python",
   "name": "python3"
  },
  "language_info": {
   "codemirror_mode": {
    "name": "ipython",
    "version": 3
   },
   "file_extension": ".py",
   "mimetype": "text/x-python",
   "name": "python",
   "nbconvert_exporter": "python",
   "pygments_lexer": "ipython3",
   "version": "3.10.0"
  }
 },
 "nbformat": 4,
 "nbformat_minor": 5
}
